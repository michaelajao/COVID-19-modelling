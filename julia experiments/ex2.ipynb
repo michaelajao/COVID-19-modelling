{
 "cells": [
  {
   "cell_type": "code",
   "execution_count": null,
   "metadata": {},
   "outputs": [],
   "source": [
    "using DataFrames, Dates, Plots\n",
    "using Turing, FillArrays, StatsPlots, LinearAlgebra, Random, Statistics, CSV\n",
    "# 1. Load the data into a DataFrame\n",
    "data = CSV.File(\"../julia experiments/Data/GB_ENG.csv\") |> DataFrame\n",
    "\n",
    "# 2. Filter out any rows with missing values in the relevant columns\n",
    "filtered_data = dropmissing(data, [:date, :new_confirmed, :new_deceased, :new_hospitalized_patients, :current_ventilator_patients, :population])\n",
    "\n",
    "# 3. Convert the 'date' column to Julia Date type\n",
    "filtered_data.date = Date.(filtered_data.date)"
   ]
  },
  {
   "cell_type": "code",
   "execution_count": null,
   "metadata": {},
   "outputs": [],
   "source": [
    "theme(:bright)\n",
    "# 5. Plot all the columns on separate subplots in one figure\n",
    "plot(\n",
    "    filtered_data.date, \n",
    "    [filtered_data.new_confirmed, \n",
    "     filtered_data.new_deceased, \n",
    "     filtered_data.new_hospitalized_patients, \n",
    "     filtered_data.current_ventilator_patients], \n",
    "    \n",
    "    layout = (4, 1), \n",
    "    size = (800, 700),\n",
    "    legend = false,\n",
    "    title = [\"New Confirmed\" \"New Deceased\" \"New Hospitalized\" \"Current Ventilator\"],\n",
    "    ylabel = [\"Count\" \"Count\" \"Count\" \"Count\"],\n",
    "    xlabel = \"Date\",\n",
    "    lw = 2\n",
    ")"
   ]
  },
  {
   "cell_type": "code",
   "execution_count": null,
   "metadata": {},
   "outputs": [],
   "source": [
    "data = filtered_data"
   ]
  },
  {
   "cell_type": "code",
   "execution_count": null,
   "metadata": {},
   "outputs": [],
   "source": [
    "t = 1:length(data.new_confirmed)\n",
    "y_cases = data.new_confirmed\n",
    "\n",
    "# Standardize the time series\n",
    "t_min, t_max = extrema(t)\n",
    "x = (t .- t_min) ./ (t_max - t_min)\n",
    "y_cases = y_cases .- mean(y_cases)\n",
    "\n",
    "# Define cyclic features\n",
    "freqs = 1:10  # For now, considering 10 frequencies, this can be adjusted\n",
    "num_freqs = length(freqs)\n",
    "cyclic_features = hcat(sinpi.(2 .* freqs' .* x), cospi.(2 .* freqs' .* x))\n",
    "\n",
    "# Probabilistic model definition\n",
    "@model function decomp_model(t, c, op)\n",
    "    α ~ Normal(0, 10)\n",
    "    βt ~ Normal(0, 2)\n",
    "    βc ~ MvNormal(Zeros(size(c, 2)), I)\n",
    "    σ ~ truncated(Normal(0, 0.1); lower=0)\n",
    "    cyclic = c * βc\n",
    "    trend = α .+ βt .* t\n",
    "    μ = op(trend, cyclic)\n",
    "    y ~ MvNormal(μ, σ^2 * I)\n",
    "    return (; trend, cyclic)\n",
    "end\n",
    "\n",
    "# Sampling\n",
    "chain = sample(decomp_model(x, cyclic_features, +) | (; y=y_cases), NUTS(), 2000)"
   ]
  },
  {
   "cell_type": "code",
   "execution_count": null,
   "metadata": {},
   "outputs": [],
   "source": []
  }
 ],
 "metadata": {
  "kernelspec": {
   "display_name": "Julia 1.9.3",
   "language": "julia",
   "name": "julia-1.9"
  },
  "language_info": {
   "file_extension": ".jl",
   "mimetype": "application/julia",
   "name": "julia",
   "version": "1.9.3"
  },
  "orig_nbformat": 4
 },
 "nbformat": 4,
 "nbformat_minor": 2
}
