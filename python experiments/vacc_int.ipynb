{
 "cells": [
  {
   "cell_type": "code",
   "execution_count": 2,
   "metadata": {},
   "outputs": [
    {
     "name": "stdout",
     "output_type": "stream",
     "text": [
      "1.13.1\n"
     ]
    }
   ],
   "source": [
    "import os\n",
    "import torch\n",
    "os.environ['TORCH'] = torch.__version__\n",
    "print(torch.__version__)\n"
   ]
  },
  {
   "cell_type": "code",
   "execution_count": 3,
   "metadata": {},
   "outputs": [],
   "source": [
    "import numpy as np\n",
    "import torch\n",
    "import torch.nn as nn\n",
    "import torch.nn.functional as F"
   ]
  },
  {
   "cell_type": "code",
   "execution_count": 4,
   "metadata": {},
   "outputs": [],
   "source": [
    "class GATLayer(nn.Module):\n",
    "    \"\"\"\n",
    "    Simple PyTorch Implementation of the Graph Attention layer.\n",
    "    \"\"\"\n",
    "    def __init__(self):\n",
    "        super(GATLayer, self).__init__()\n",
    "      \n",
    "    def forward(self, input, adj):\n",
    "        print(\"\")"
   ]
  },
  {
   "cell_type": "code",
   "execution_count": 5,
   "metadata": {},
   "outputs": [
    {
     "name": "stdout",
     "output_type": "stream",
     "text": [
      "torch.Size([3, 2])\n"
     ]
    }
   ],
   "source": [
    "in_features = 5\n",
    "out_features = 2\n",
    "nb_nodes = 3\n",
    "\n",
    "W = nn.Parameter(torch.zeros(size=(in_features, out_features))) #xavier paramiter inizializator\n",
    "nn.init.xavier_uniform_(W.data, gain=1.414)\n",
    "\n",
    "input = torch.rand(nb_nodes,in_features) \n",
    "\n",
    "\n",
    "# linear transformation\n",
    "h = torch.mm(input, W)\n",
    "N = h.size()[0]\n",
    "\n",
    "print(h.shape)"
   ]
  },
  {
   "cell_type": "code",
   "execution_count": 6,
   "metadata": {},
   "outputs": [
    {
     "name": "stdout",
     "output_type": "stream",
     "text": [
      "torch.Size([4, 1])\n"
     ]
    }
   ],
   "source": [
    "a = nn.Parameter(torch.zeros(size=(2*out_features, 1))) #xavier paramiter inizializator\n",
    "nn.init.xavier_uniform_(a.data, gain=1.414)\n",
    "print(a.shape)\n",
    "\n",
    "leakyrelu = nn.LeakyReLU(0.2)"
   ]
  },
  {
   "cell_type": "code",
   "execution_count": 7,
   "metadata": {},
   "outputs": [],
   "source": [
    "a_input = torch.cat([h.repeat(1, N).view(N * N, -1), h.repeat(N, 1)], dim=1).view(N, -1, 2 * out_features)"
   ]
  },
  {
   "cell_type": "code",
   "execution_count": 8,
   "metadata": {},
   "outputs": [],
   "source": [
    "e = leakyrelu(torch.matmul(a_input, a).squeeze(2))"
   ]
  },
  {
   "cell_type": "code",
   "execution_count": 9,
   "metadata": {},
   "outputs": [
    {
     "name": "stdout",
     "output_type": "stream",
     "text": [
      "torch.Size([3, 3, 4]) torch.Size([4, 1])\n",
      "\n",
      "torch.Size([3, 3, 1])\n",
      "\n",
      "torch.Size([3, 3])\n"
     ]
    }
   ],
   "source": [
    "print(a_input.shape,a.shape)\n",
    "print(\"\")\n",
    "print(torch.matmul(a_input,a).shape)\n",
    "print(\"\")\n",
    "print(torch.matmul(a_input,a).squeeze(2).shape)"
   ]
  },
  {
   "cell_type": "code",
   "execution_count": 10,
   "metadata": {},
   "outputs": [
    {
     "name": "stdout",
     "output_type": "stream",
     "text": [
      "torch.Size([3, 3])\n"
     ]
    }
   ],
   "source": [
    "# Masked Attention\n",
    "adj = torch.randint(2, (3, 3))\n",
    "\n",
    "zero_vec  = -9e15*torch.ones_like(e)\n",
    "print(zero_vec.shape)"
   ]
  },
  {
   "cell_type": "code",
   "execution_count": 11,
   "metadata": {},
   "outputs": [
    {
     "name": "stdout",
     "output_type": "stream",
     "text": [
      "tensor([[1, 1, 1],\n",
      "        [0, 1, 1],\n",
      "        [1, 1, 0]]) \n",
      " tensor([[ 0.2799,  0.6508,  1.2550],\n",
      "        [ 2.1092,  2.4801,  3.0843],\n",
      "        [-0.0248,  0.2467,  0.8509]], grad_fn=<LeakyReluBackward0>) \n",
      " tensor([[-9.0000e+15, -9.0000e+15, -9.0000e+15],\n",
      "        [-9.0000e+15, -9.0000e+15, -9.0000e+15],\n",
      "        [-9.0000e+15, -9.0000e+15, -9.0000e+15]])\n"
     ]
    },
    {
     "data": {
      "text/plain": [
       "tensor([[ 2.7986e-01,  6.5076e-01,  1.2550e+00],\n",
       "        [-9.0000e+15,  2.4801e+00,  3.0843e+00],\n",
       "        [-2.4841e-02,  2.4670e-01, -9.0000e+15]], grad_fn=<WhereBackward0>)"
      ]
     },
     "execution_count": 11,
     "metadata": {},
     "output_type": "execute_result"
    }
   ],
   "source": [
    "attention = torch.where(adj > 0, e, zero_vec)\n",
    "print(adj,\"\\n\",e,\"\\n\",zero_vec)\n",
    "attention"
   ]
  },
  {
   "cell_type": "code",
   "execution_count": 12,
   "metadata": {},
   "outputs": [],
   "source": [
    "attention = F.softmax(attention, dim=1)\n",
    "h_prime   = torch.matmul(attention, h)"
   ]
  },
  {
   "cell_type": "code",
   "execution_count": 13,
   "metadata": {},
   "outputs": [
    {
     "data": {
      "text/plain": [
       "tensor([[0.1961, 0.2841, 0.5198],\n",
       "        [0.0000, 0.3534, 0.6466],\n",
       "        [0.4325, 0.5675, 0.0000]], grad_fn=<SoftmaxBackward0>)"
      ]
     },
     "execution_count": 13,
     "metadata": {},
     "output_type": "execute_result"
    }
   ],
   "source": [
    "attention"
   ]
  },
  {
   "cell_type": "code",
   "execution_count": 14,
   "metadata": {},
   "outputs": [
    {
     "data": {
      "text/plain": [
       "tensor([[-1.0315, -0.2346],\n",
       "        [-1.1860, -0.3200],\n",
       "        [-0.8687, -0.7757]], grad_fn=<MmBackward0>)"
      ]
     },
     "execution_count": 14,
     "metadata": {},
     "output_type": "execute_result"
    }
   ],
   "source": [
    "h_prime"
   ]
  },
  {
   "cell_type": "code",
   "execution_count": 15,
   "metadata": {},
   "outputs": [
    {
     "name": "stdout",
     "output_type": "stream",
     "text": [
      "tensor([[-1.0315, -0.2346],\n",
      "        [-1.1860, -0.3200],\n",
      "        [-0.8687, -0.7757]], grad_fn=<MmBackward0>) \n",
      " tensor([[-0.3982,  0.1155],\n",
      "        [-1.2274, -1.4550],\n",
      "        [-1.1634,  0.3003]], grad_fn=<MmBackward0>)\n"
     ]
    }
   ],
   "source": [
    "print(h_prime,\"\\n\",h)"
   ]
  },
  {
   "cell_type": "code",
   "execution_count": 16,
   "metadata": {},
   "outputs": [],
   "source": [
    "class GATLayer(nn.Module):\n",
    "    def __init__(self, in_features, out_features, dropout, alpha, concat=True):\n",
    "        super(GATLayer, self).__init__()\n",
    "        \n",
    "        '''\n",
    "        TODO\n",
    "        '''\n",
    "        \n",
    "    def forward(self, input, adj):\n",
    "        # Linear Transformation\n",
    "        h = torch.mm(input, self.W) # matrix multiplication\n",
    "        N = h.size()[0]\n",
    "\n",
    "        # Attention Mechanism\n",
    "        a_input = torch.cat([h.repeat(1, N).view(N * N, -1), h.repeat(N, 1)], dim=1).view(N, -1, 2 * self.out_features)\n",
    "        e       = self.leakyrelu(torch.matmul(a_input, self.a).squeeze(2))\n",
    "\n",
    "        # Masked Attention\n",
    "        zero_vec  = -9e15*torch.ones_like(e)\n",
    "        attention = torch.where(adj > 0, e, zero_vec)\n",
    "        \n",
    "        attention = F.softmax(attention, dim=1)\n",
    "        attention = F.dropout(attention, self.dropout, training=self.training)\n",
    "        h_prime   = torch.matmul(attention, h)\n",
    "\n",
    "        if self.concat:\n",
    "            return F.elu(h_prime)\n",
    "        else:\n",
    "            return h_prime"
   ]
  },
  {
   "cell_type": "code",
   "execution_count": 17,
   "metadata": {},
   "outputs": [],
   "source": [
    "class GATLayer(nn.Module):\n",
    "    def __init__(self, in_features, out_features, dropout, alpha, concat=True):\n",
    "        super(GATLayer, self).__init__()\n",
    "        self.dropout       = dropout        # drop prob = 0.6\n",
    "        self.in_features   = in_features    # \n",
    "        self.out_features  = out_features   # \n",
    "        self.alpha         = alpha          # LeakyReLU with negative input slope, alpha = 0.2\n",
    "        self.concat        = concat         # conacat = True for all layers except the output layer.\n",
    "\n",
    "        \n",
    "        # Xavier Initialization of Weights\n",
    "        # Alternatively use weights_init to apply weights of choice \n",
    "        self.W = nn.Parameter(torch.zeros(size=(in_features, out_features)))\n",
    "        nn.init.xavier_uniform_(self.W.data, gain=1.414)\n",
    "        \n",
    "        self.a = nn.Parameter(torch.zeros(size=(2*out_features, 1)))\n",
    "        nn.init.xavier_uniform_(self.a.data, gain=1.414)\n",
    "        \n",
    "        # LeakyReLU\n",
    "        self.leakyrelu = nn.LeakyReLU(self.alpha)\n",
    "\n",
    "    def forward(self, input, adj):\n",
    "        # Linear Transformation\n",
    "        h = torch.mm(input, self.W) # matrix multiplication\n",
    "        N = h.size()[0]\n",
    "        print(N)\n",
    "\n",
    "        # Attention Mechanism\n",
    "        a_input = torch.cat([h.repeat(1, N).view(N * N, -1), h.repeat(N, 1)], dim=1).view(N, -1, 2 * self.out_features)\n",
    "        e       = self.leakyrelu(torch.matmul(a_input, self.a).squeeze(2))\n",
    "\n",
    "        # Masked Attention\n",
    "        zero_vec  = -9e15*torch.ones_like(e)\n",
    "        attention = torch.where(adj > 0, e, zero_vec)\n",
    "        \n",
    "        attention = F.softmax(attention, dim=1)\n",
    "        attention = F.dropout(attention, self.dropout, training=self.training)\n",
    "        h_prime   = torch.matmul(attention, h)\n",
    "\n",
    "        if self.concat:\n",
    "            return F.elu(h_prime)\n",
    "        else:\n",
    "            return h_prime"
   ]
  },
  {
   "cell_type": "code",
   "execution_count": 21,
   "metadata": {},
   "outputs": [
    {
     "name": "stderr",
     "output_type": "stream",
     "text": [
      "Downloading https://github.com/kimiyoung/planetoid/raw/master/data/ind.cora.x\n",
      "Downloading https://github.com/kimiyoung/planetoid/raw/master/data/ind.cora.tx\n",
      "Downloading https://github.com/kimiyoung/planetoid/raw/master/data/ind.cora.allx\n",
      "Downloading https://github.com/kimiyoung/planetoid/raw/master/data/ind.cora.y\n",
      "Downloading https://github.com/kimiyoung/planetoid/raw/master/data/ind.cora.ty\n",
      "Downloading https://github.com/kimiyoung/planetoid/raw/master/data/ind.cora.ally\n",
      "Downloading https://github.com/kimiyoung/planetoid/raw/master/data/ind.cora.graph\n",
      "Downloading https://github.com/kimiyoung/planetoid/raw/master/data/ind.cora.test.index\n"
     ]
    },
    {
     "name": "stdout",
     "output_type": "stream",
     "text": [
      "Number of Classes in Cora: 7\n",
      "Number of Node Features in Cora: 1433\n"
     ]
    },
    {
     "name": "stderr",
     "output_type": "stream",
     "text": [
      "Processing...\n",
      "Done!\n"
     ]
    }
   ],
   "source": [
    "from torch_geometric.data import Data\n",
    "from torch_geometric.nn import GATConv\n",
    "from torch_geometric.datasets import Planetoid\n",
    "import torch_geometric.transforms as T\n",
    "\n",
    "import matplotlib.pyplot as plt\n",
    "\n",
    "name_data = 'Cora'\n",
    "dataset = Planetoid(root= '/tmp/' + name_data, name = name_data)\n",
    "dataset.transform = T.NormalizeFeatures()\n",
    "\n",
    "print(f\"Number of Classes in {name_data}:\", dataset.num_classes)\n",
    "print(f\"Number of Node Features in {name_data}:\", dataset.num_node_features)"
   ]
  },
  {
   "cell_type": "code",
   "execution_count": 22,
   "metadata": {},
   "outputs": [
    {
     "name": "stdout",
     "output_type": "stream",
     "text": [
      "tensor(1.9423, grad_fn=<NllLossBackward0>)\n",
      "tensor(0.6565, grad_fn=<NllLossBackward0>)\n",
      "tensor(0.6622, grad_fn=<NllLossBackward0>)\n",
      "tensor(0.5666, grad_fn=<NllLossBackward0>)\n",
      "tensor(0.4820, grad_fn=<NllLossBackward0>)\n"
     ]
    }
   ],
   "source": [
    "class GAT(torch.nn.Module):\n",
    "    def __init__(self):\n",
    "        super(GAT, self).__init__()\n",
    "        self.hid = 8\n",
    "        self.in_head = 8\n",
    "        self.out_head = 1\n",
    "        \n",
    "        \n",
    "        self.conv1 = GATConv(dataset.num_features, self.hid, heads=self.in_head, dropout=0.6)\n",
    "        self.conv2 = GATConv(self.hid*self.in_head, dataset.num_classes, concat=False,\n",
    "                             heads=self.out_head, dropout=0.6)\n",
    "\n",
    "    def forward(self, data):\n",
    "        x, edge_index = data.x, data.edge_index\n",
    "                \n",
    "        x = F.dropout(x, p=0.6, training=self.training)\n",
    "        x = self.conv1(x, edge_index)\n",
    "        x = F.elu(x)\n",
    "        x = F.dropout(x, p=0.6, training=self.training)\n",
    "        x = self.conv2(x, edge_index)\n",
    "        \n",
    "        return F.log_softmax(x, dim=1)\n",
    "    \n",
    "    \n",
    "    \n",
    "device = torch.device('cuda' if torch.cuda.is_available() else 'cpu')\n",
    "device = \"cpu\"\n",
    "\n",
    "model = GAT().to(device)\n",
    "data = dataset[0].to(device)\n",
    "\n",
    "\n",
    "optimizer = torch.optim.Adam(model.parameters(), lr=0.005, weight_decay=5e-4)\n",
    "\n",
    "model.train()\n",
    "for epoch in range(1000):\n",
    "    model.train()\n",
    "    optimizer.zero_grad()\n",
    "    out = model(data)\n",
    "    loss = F.nll_loss(out[data.train_mask], data.y[data.train_mask])\n",
    "    \n",
    "    if epoch%200 == 0:\n",
    "        print(loss)\n",
    "    \n",
    "    loss.backward()\n",
    "    optimizer.step()\n",
    "    \n",
    "    "
   ]
  },
  {
   "cell_type": "code",
   "execution_count": 23,
   "metadata": {},
   "outputs": [
    {
     "name": "stdout",
     "output_type": "stream",
     "text": [
      "Accuracy: 0.8280\n"
     ]
    }
   ],
   "source": [
    "model.eval()\n",
    "_, pred = model(data).max(dim=1)\n",
    "correct = float(pred[data.test_mask].eq(data.y[data.test_mask]).sum().item())\n",
    "acc = correct / data.test_mask.sum().item()\n",
    "print('Accuracy: {:.4f}'.format(acc))"
   ]
  },
  {
   "cell_type": "code",
   "execution_count": 24,
   "metadata": {},
   "outputs": [],
   "source": [
    "from torch_geometric_temporal.dataset import ChickenpoxDatasetLoader\n",
    "from torch_geometric_temporal.signal import temporal_signal_split\n",
    "\n",
    "loader = ChickenpoxDatasetLoader()\n",
    "\n",
    "dataset = loader.get_dataset()\n",
    "\n",
    "train_dataset, test_dataset = temporal_signal_split(dataset, train_ratio=0.2)"
   ]
  },
  {
   "cell_type": "code",
   "execution_count": 27,
   "metadata": {},
   "outputs": [
    {
     "name": "stdout",
     "output_type": "stream",
     "text": [
      "<torch_geometric_temporal.signal.static_graph_temporal_signal.StaticGraphTemporalSignal object at 0x000001CE87D70F40>\n"
     ]
    }
   ],
   "source": [
    "print(train_dataset)"
   ]
  },
  {
   "cell_type": "code",
   "execution_count": 28,
   "metadata": {},
   "outputs": [],
   "source": [
    "import torch\n",
    "import torch.nn.functional as F\n",
    "from torch_geometric_temporal.nn.recurrent import DCRNN\n",
    "\n",
    "class RecurrentGCN(torch.nn.Module):\n",
    "    def __init__(self, node_features):\n",
    "        super(RecurrentGCN, self).__init__()\n",
    "        self.recurrent = DCRNN(node_features, 32, 1)\n",
    "        self.linear = torch.nn.Linear(32, 1)\n",
    "\n",
    "    def forward(self, x, edge_index, edge_weight):\n",
    "        h = self.recurrent(x, edge_index, edge_weight)\n",
    "        h = F.relu(h)\n",
    "        h = self.linear(h)\n",
    "        return h"
   ]
  },
  {
   "cell_type": "code",
   "execution_count": 29,
   "metadata": {},
   "outputs": [
    {
     "name": "stderr",
     "output_type": "stream",
     "text": [
      "100%|██████████| 200/200 [00:36<00:00,  5.54it/s]\n"
     ]
    }
   ],
   "source": [
    "from tqdm import tqdm\n",
    "\n",
    "model = RecurrentGCN(node_features = 4)\n",
    "\n",
    "optimizer = torch.optim.Adam(model.parameters(), lr=0.01)\n",
    "\n",
    "model.train()\n",
    "\n",
    "for epoch in tqdm(range(200)):\n",
    "    cost = 0\n",
    "    for time, snapshot in enumerate(train_dataset):\n",
    "        y_hat = model(snapshot.x, snapshot.edge_index, snapshot.edge_attr)\n",
    "        cost = cost + torch.mean((y_hat-snapshot.y)**2)\n",
    "    cost = cost / (time+1)\n",
    "    cost.backward()\n",
    "    optimizer.step()\n",
    "    optimizer.zero_grad()"
   ]
  },
  {
   "cell_type": "code",
   "execution_count": 30,
   "metadata": {},
   "outputs": [
    {
     "name": "stdout",
     "output_type": "stream",
     "text": [
      "MSE: 1.0245\n"
     ]
    }
   ],
   "source": [
    "model.eval()\n",
    "cost = 0\n",
    "for time, snapshot in enumerate(test_dataset):\n",
    "    y_hat = model(snapshot.x, snapshot.edge_index, snapshot.edge_attr)\n",
    "    cost = cost + torch.mean((y_hat-snapshot.y)**2)\n",
    "cost = cost / (time+1)\n",
    "cost = cost.item()\n",
    "print(\"MSE: {:.4f}\".format(cost))\n"
   ]
  },
  {
   "cell_type": "code",
   "execution_count": 3,
   "metadata": {},
   "outputs": [
    {
     "name": "stdout",
     "output_type": "stream",
     "text": [
      "{'Red': 12.0, 'Blue': 21.0, 'Green': 36.0}\n",
      "Total cost: 670585\n"
     ]
    }
   ],
   "source": [
    "import pulp\n",
    "\n",
    "# Problem data:\n",
    "\n",
    "# Demands\n",
    "demands = {\n",
    "    \"Chongqing\": 16,\n",
    "    \"Beijing\": 20,\n",
    "    \"Nanjing\": 21,\n",
    "    \"Shijiazhuang\": 12\n",
    "}\n",
    "\n",
    "# Distances to Ningbo\n",
    "distances = {\n",
    "    \"Chongqing\": 1750,\n",
    "    \"Beijing\": 1400,\n",
    "    \"Nanjing\": 450,\n",
    "    \"Shijiazhuang\": 1300\n",
    "}\n",
    "\n",
    "# Bids in Yuan Renminbi per TEU per km\n",
    "cost_per_TEU = {\n",
    "    \"Red\": {\n",
    "        \"Chongqing\": 7.50,\n",
    "        \"Beijing\": 6.40,\n",
    "        \"Nanjing\": 8.80,\n",
    "        \"Shijiazhuang\": 7.80\n",
    "    },\n",
    "    \"Blue\": {\n",
    "        \"Chongqing\": 9.00,\n",
    "        \"Beijing\": 8.30,\n",
    "        \"Nanjing\": 8.90,\n",
    "        \"Shijiazhuang\": 9.20\n",
    "    },\n",
    "    \"Green\": {\n",
    "        \"Chongqing\": 8.60,\n",
    "        \"Beijing\": 8.00,\n",
    "        \"Nanjing\": 9.20,\n",
    "        \"Shijiazhuang\": 8.40\n",
    "    }\n",
    "}\n",
    "\n",
    "# Carrier capacity\n",
    "carrier_capacity = {\n",
    "    \"Red\": 15,\n",
    "    \"Blue\": 25,\n",
    "    \"Green\": 90\n",
    "}\n",
    "\n",
    "bids = list(carrier_capacity.keys())\n",
    "\n",
    "# LP formulation begins\n",
    "\n",
    "# Define the LP problem\n",
    "prob = pulp.LpProblem(\"CarrierAllocation\", pulp.LpMinimize)\n",
    "\n",
    "# Decision variables:\n",
    "# x_{ij} - Binary variable that is 1 if lane i is assigned to carrier j, 0 otherwise.\n",
    "x = pulp.LpVariable.dicts(\"x\", (demands.keys(), bids), cat=\"Binary\")\n",
    "\n",
    "# Objective function:\n",
    "# Minimize the sum of products of the cost per TEU per km, distance, expected weekly demand, and the decision variables.\n",
    "prob += pulp.lpSum([x[city][carrier] * cost_per_TEU[carrier][city] * distances[city] * demands[city] for city in demands for carrier in bids])\n",
    "\n",
    "# Constraints:\n",
    "\n",
    "# 1. Each lane (city) is assigned to only one carrier.\n",
    "for city in demands:\n",
    "    prob += pulp.lpSum([x[city][carrier] for carrier in bids]) == 1\n",
    "\n",
    "# 2. The total TEUs assigned to a carrier must not exceed its capacity.\n",
    "for carrier in bids:\n",
    "    prob += pulp.lpSum([x[city][carrier] * demands[city] for city in demands]) <= carrier_capacity[carrier]\n",
    "\n",
    "# Solve the problem\n",
    "prob.solve()\n",
    "\n",
    "# Extract and display the results\n",
    "allocated_TEUs = {carrier: sum(demands[city] * x[city][carrier].varValue for city in demands) for carrier in bids}\n",
    "total_cost = sum(demands[city] * cost_per_TEU[carrier][city] * distances[city] * x[city][carrier].varValue for city in demands for carrier in bids)\n",
    "\n",
    "print(allocated_TEUs)\n",
    "print(\"Total cost:\", round(total_cost))\n"
   ]
  },
  {
   "cell_type": "code",
   "execution_count": 4,
   "metadata": {},
   "outputs": [
    {
     "name": "stdout",
     "output_type": "stream",
     "text": [
      "{'Red': 15.0, 'Blue': 21.0, 'Green': 33.0}\n",
      "Total cost: 11146060\n"
     ]
    }
   ],
   "source": [
    "import pulp\n",
    "\n",
    "# Define the LP problem\n",
    "prob = pulp.LpProblem(\"CarrierAllocationWithNewConstraints\", pulp.LpMinimize)\n",
    "\n",
    "# Decision variables:\n",
    "# x_{ij} - Continuous variable that represents the number of loads assigned from lane i to carrier j.\n",
    "x = pulp.LpVariable.dicts(\"x\", (demands.keys(), bids), lowBound=0, cat=\"Continuous\")\n",
    "\n",
    "# y_{ij} - Binary variable that equals 1 if carrier j is assigned at least 5 loads from lane i (otherwise 0).\n",
    "y = pulp.LpVariable.dicts(\"y\", (demands.keys(), bids), cat=\"Binary\")\n",
    "\n",
    "# Objective function:\n",
    "# Minimize the sum of products of the cost per TEU per km, distance, expected weekly demand, and the decision variables.\n",
    "prob += pulp.lpSum([x[city][carrier] * cost_per_TEU[carrier][city] * distances[city] for city in demands for carrier in bids])\n",
    "\n",
    "# Constraints:\n",
    "\n",
    "# 1. Each lane (city) demand must be satisfied.\n",
    "for city in demands:\n",
    "    prob += pulp.lpSum([x[city][carrier] for carrier in bids]) == demands[city]\n",
    "\n",
    "# 2. The total TEUs assigned to a carrier must not exceed its capacity.\n",
    "for carrier in bids:\n",
    "    prob += pulp.lpSum([x[city][carrier] for city in demands]) <= carrier_capacity[carrier]\n",
    "\n",
    "# 3. Each lane (city) must have at least two carriers assigned.\n",
    "for city in demands:\n",
    "    prob += pulp.lpSum([y[city][carrier] for carrier in bids]) >= 2\n",
    "\n",
    "# 4. Linking constraints for y and x variables\n",
    "for city in demands:\n",
    "    for carrier in bids:\n",
    "        prob += x[city][carrier] >= 5 * y[city][carrier]\n",
    "        prob += x[city][carrier] <= demands[city] * y[city][carrier] + 4 * (1 - y[city][carrier])\n",
    "\n",
    "# Solve the problem\n",
    "prob.solve()\n",
    "\n",
    "# Extract and display the results\n",
    "allocated_TEUs = {carrier: sum(x[city][carrier].varValue for city in demands) for carrier in bids}\n",
    "total_cost = sum(demands[city] * cost_per_TEU[carrier][city] * distances[city] * x[city][carrier].varValue for city in demands for carrier in bids)\n",
    "\n",
    "print(allocated_TEUs)\n",
    "print(\"Total cost:\", round(total_cost))\n"
   ]
  },
  {
   "cell_type": "code",
   "execution_count": 5,
   "metadata": {},
   "outputs": [
    {
     "name": "stdout",
     "output_type": "stream",
     "text": [
      "{'Red': 15.0, 'Blue': 21.0, 'Green': 33.0}\n",
      "Total cost: 11146060\n"
     ]
    }
   ],
   "source": [
    "import pulp\n",
    "\n",
    "# MILP problem formulation\n",
    "prob = pulp.LpProblem(\"CarrierAllocationWithTwoCarriers\", pulp.LpMinimize)\n",
    "\n",
    "# Decision Variables\n",
    "x = pulp.LpVariable.dicts(\"x\", (demands.keys(), bids), lowBound=0, cat=\"Continuous\")\n",
    "y = pulp.LpVariable.dicts(\"y\", (demands.keys(), bids), cat=\"Binary\")\n",
    "\n",
    "# Objective Function\n",
    "prob += pulp.lpSum([x[city][carrier] * cost_per_TEU[carrier][city] * distances[city] for city in demands for carrier in bids])\n",
    "\n",
    "# Constraints:\n",
    "\n",
    "# 1. Each city's demand should be satisfied.\n",
    "for city in demands:\n",
    "    prob += pulp.lpSum([x[city][carrier] for carrier in bids]) == demands[city]\n",
    "\n",
    "# 2. If y is 1, x should be at least 5, if y is 0, x should be 0.\n",
    "for city in demands:\n",
    "    for carrier in bids:\n",
    "        prob += x[city][carrier] >= 5 * y[city][carrier]\n",
    "        prob += x[city][carrier] <= demands[city] * y[city][carrier]\n",
    "\n",
    "# 3. At least two carriers for each city should have y as 1.\n",
    "for city in demands:\n",
    "    prob += pulp.lpSum([y[city][carrier] for carrier in bids]) >= 2\n",
    "\n",
    "# 4. Each carrier's total loads should not exceed its capacity.\n",
    "for carrier in bids:\n",
    "    prob += pulp.lpSum([x[city][carrier] for city in demands]) <= carrier_capacity[carrier]\n",
    "\n",
    "# Solve the problem\n",
    "prob.solve()\n",
    "\n",
    "# Extract and display the results\n",
    "allocated_TEUs = {carrier: sum(x[city][carrier].varValue for city in demands) for carrier in bids}\n",
    "total_cost = sum(demands[city] * cost_per_TEU[carrier][city] * distances[city] * x[city][carrier].varValue for city in demands for carrier in bids)\n",
    "\n",
    "print(allocated_TEUs)\n",
    "print(\"Total cost:\", round(total_cost))\n"
   ]
  },
  {
   "cell_type": "code",
   "execution_count": 7,
   "metadata": {},
   "outputs": [
    {
     "name": "stdout",
     "output_type": "stream",
     "text": [
      "{'Red': 15.0, 'Blue': 21.0, 'Green': 33.0}\n",
      "Total cost: 10999485\n"
     ]
    }
   ],
   "source": [
    "import pulp\n",
    "from itertools import combinations\n",
    "\n",
    "# Generate all combinations of two carriers\n",
    "carrier_combinations = list(combinations(bids, 2))\n",
    "\n",
    "# This function sets up and solves the LP for a given combination of carriers for a city\n",
    "def solve_for_combination(city, combo):\n",
    "    # Initialize LP problem\n",
    "    prob = pulp.LpProblem(\"CarrierAllocationForCombo\", pulp.LpMinimize)\n",
    "    \n",
    "    # Decision Variables\n",
    "    x = pulp.LpVariable.dicts(\"x\", (demands.keys(), bids), lowBound=0, cat=\"Continuous\")\n",
    "    \n",
    "    # Objective Function\n",
    "    prob += pulp.lpSum([x[c][carrier] * cost_per_TEU[carrier][c] * distances[c] for c in demands for carrier in bids])\n",
    "    \n",
    "    # Constraints\n",
    "    \n",
    "    # 1. Each city's demand should be satisfied.\n",
    "    for c in demands:\n",
    "        prob += pulp.lpSum([x[c][carrier] for carrier in bids]) == demands[c]\n",
    "    \n",
    "    # 2. For the given city and carrier combination, assign at least 5 loads.\n",
    "    for carrier in combo:\n",
    "        prob += x[city][carrier] >= 5\n",
    "        \n",
    "    # 3. Each carrier's total loads should not exceed its capacity.\n",
    "    for carrier in bids:\n",
    "        prob += pulp.lpSum([x[c][carrier] for c in demands]) <= carrier_capacity[carrier]\n",
    "    \n",
    "    # Solve the problem\n",
    "    prob.solve()\n",
    "    \n",
    "    # Return the results\n",
    "    return {\n",
    "        \"allocation\": {carrier: sum(x[c][carrier].varValue for c in demands) for carrier in bids},\n",
    "        \"total_cost\": sum(demands[c] * cost_per_TEU[carrier][c] * distances[c] * x[c][carrier].varValue for c in demands for carrier in bids)\n",
    "    }\n",
    "\n",
    "# Now, for each city, iterate over the combinations and solve the LP\n",
    "results = []\n",
    "for city in demands:\n",
    "    for combo in carrier_combinations:\n",
    "        result = solve_for_combination(city, combo)\n",
    "        results.append(result)\n",
    "\n",
    "# Select the solution with the lowest total cost\n",
    "best_solution = min(results, key=lambda x: x[\"total_cost\"])\n",
    "\n",
    "print(best_solution[\"allocation\"])\n",
    "print(\"Total cost:\", round(best_solution[\"total_cost\"]))\n"
   ]
  },
  {
   "cell_type": "code",
   "execution_count": 10,
   "metadata": {},
   "outputs": [
    {
     "name": "stdout",
     "output_type": "stream",
     "text": [
      "Allocated TEUs: {'Red': 15.0, 'Blue': 21.0, 'Green': 33.0}\n",
      "Allocated Lanes: {'Red': 2.0, 'Blue': 2.0, 'Green': 4.0}\n",
      "Total cost: 11146060\n"
     ]
    }
   ],
   "source": [
    "import pulp\n",
    "\n",
    "# Initialize the MILP problem\n",
    "prob = pulp.LpProblem(\"CarrierAllocation\", pulp.LpMinimize)\n",
    "\n",
    "# Decision Variables\n",
    "x = pulp.LpVariable.dicts(\"x\", (demands.keys(), bids), cat=\"Binary\")\n",
    "y = pulp.LpVariable.dicts(\"y\", (demands.keys(), bids), lowBound=0, cat=\"Continuous\")\n",
    "\n",
    "# Objective Function\n",
    "prob += pulp.lpSum([y[city][carrier] * cost_per_TEU[carrier][city] * distances[city] for city in demands for carrier in bids])\n",
    "\n",
    "# Constraints\n",
    "\n",
    "# 1. Each city's demand should be satisfied.\n",
    "for city in demands:\n",
    "    prob += pulp.lpSum([y[city][carrier] for carrier in bids]) == demands[city]\n",
    "\n",
    "# 2. Each carrier's total loads should not exceed its capacity.\n",
    "for carrier in bids:\n",
    "    prob += pulp.lpSum([y[city][carrier] for city in demands]) <= carrier_capacity[carrier]\n",
    "\n",
    "# 3. If a carrier is assigned to a city, it transports at least 5 loads from that city.\n",
    "for city in demands:\n",
    "    for carrier in bids:\n",
    "        prob += y[city][carrier] >= 5 * x[city][carrier]\n",
    "\n",
    "# 4. At least two carriers are considered for each city.\n",
    "for city in demands:\n",
    "    prob += pulp.lpSum([x[city][carrier] for carrier in bids]) >= 2\n",
    "\n",
    "# 5. Ensure y does not exceed demand if x is 0.\n",
    "for city in demands:\n",
    "    for carrier in bids:\n",
    "        prob += y[city][carrier] <= demands[city] * x[city][carrier]\n",
    "\n",
    "# Solve the problem\n",
    "prob.solve()\n",
    "\n",
    "# Extract and display the results\n",
    "allocated_TEUs = {carrier: sum(y[city][carrier].varValue for city in demands) for carrier in bids}\n",
    "allocated_lanes = {carrier: sum(x[city][carrier].varValue for city in demands) for carrier in bids}\n",
    "total_cost = sum(demands[city] * cost_per_TEU[carrier][city] * distances[city] * y[city][carrier].varValue for city in demands for carrier in bids)\n",
    "\n",
    "print(\"Allocated TEUs:\", allocated_TEUs)\n",
    "print(\"Allocated Lanes:\", allocated_lanes)\n",
    "print(\"Total cost:\", round(total_cost))\n"
   ]
  },
  {
   "cell_type": "code",
   "execution_count": 11,
   "metadata": {},
   "outputs": [
    {
     "name": "stdout",
     "output_type": "stream",
     "text": [
      "Allocated TEUs: {'Red': 15.0, 'Blue': 21.0, 'Green': 33.0}\n",
      "Allocated Lanes: {'Red': 2.0, 'Blue': 2.0, 'Green': 4.0}\n",
      "Total cost: 11146060\n"
     ]
    }
   ],
   "source": [
    "import pulp\n",
    "\n",
    "# Initialize the MILP problem\n",
    "prob = pulp.LpProblem(\"CarrierAllocation\", pulp.LpMinimize)\n",
    "\n",
    "# Decision Variables\n",
    "x = pulp.LpVariable.dicts(\"x\", (demands.keys(), bids), cat=\"Binary\")\n",
    "y = pulp.LpVariable.dicts(\"y\", (demands.keys(), bids), lowBound=0, upBound=None, cat=\"Continuous\")\n",
    "\n",
    "# Objective Function\n",
    "prob += pulp.lpSum([y[city][carrier] * cost_per_TEU[carrier][city] * distances[city] for city in demands for carrier in bids])\n",
    "\n",
    "# Constraints\n",
    "\n",
    "# 1. Each city's demand should be satisfied.\n",
    "for city in demands:\n",
    "    prob += pulp.lpSum([y[city][carrier] for carrier in bids]) == demands[city]\n",
    "\n",
    "# 2. Each carrier's total loads should not exceed its capacity.\n",
    "for carrier in bids:\n",
    "    prob += pulp.lpSum([y[city][carrier] for city in demands]) <= carrier_capacity[carrier]\n",
    "\n",
    "# 3. Each city should have at least two carriers, and each carrier should have at least 5 TEUs if assigned.\n",
    "for city in demands:\n",
    "    prob += pulp.lpSum([x[city][carrier] for carrier in bids]) >= 2\n",
    "    for carrier in bids:\n",
    "        prob += y[city][carrier] >= 5 * x[city][carrier]\n",
    "\n",
    "# 4. If a carrier is not assigned to a city, it should not transport any TEUs from that city.\n",
    "for city in demands:\n",
    "    for carrier in bids:\n",
    "        prob += y[city][carrier] <= demands[city] * x[city][carrier]\n",
    "\n",
    "# Solve the problem\n",
    "prob.solve()\n",
    "\n",
    "# Extract and display the results\n",
    "allocated_TEUs = {carrier: sum(y[city][carrier].varValue for city in demands) for carrier in bids}\n",
    "allocated_lanes = {carrier: sum(x[city][carrier].varValue for city in demands) for carrier in bids}\n",
    "total_cost = sum(demands[city] * cost_per_TEU[carrier][city] * distances[city] * y[city][carrier].varValue for city in demands for carrier in bids)\n",
    "\n",
    "print(\"Allocated TEUs:\", allocated_TEUs)\n",
    "print(\"Allocated Lanes:\", allocated_lanes)\n",
    "print(\"Total cost:\", round(total_cost))\n"
   ]
  },
  {
   "cell_type": "code",
   "execution_count": 12,
   "metadata": {},
   "outputs": [
    {
     "data": {
      "text/plain": [
       "({'Supplier A': 12600.0,\n",
       "  'Supplier B': 26400.0,\n",
       "  'Supplier C': 24000.0,\n",
       "  'Supplier D': 51000.0},\n",
       " 21024200.0)"
      ]
     },
     "execution_count": 12,
     "metadata": {},
     "output_type": "execute_result"
    }
   ],
   "source": [
    "# Defining the data:\n",
    "\n",
    "parts = [\"W32A\", \"Y33A\", \"W32B\", \"X33B\", \"Z32A\"]\n",
    "suppliers = [\"Supplier A\", \"Supplier B\", \"Supplier C\", \"Supplier D\"]\n",
    "\n",
    "demands = {\n",
    "    \"W32A\": 17000,\n",
    "    \"Y33A\": 33000,\n",
    "    \"W32B\": 30000,\n",
    "    \"X33B\": 30000,\n",
    "    \"Z32A\": 4000\n",
    "}\n",
    "\n",
    "prices = {\n",
    "    \"W32A\": {\"Supplier A\": 500, \"Supplier B\": 538, \"Supplier C\": 570, \"Supplier D\": 566},\n",
    "    \"Y33A\": {\"Supplier A\": 109, \"Supplier B\": 108, \"Supplier C\": 116, \"Supplier D\": 117},\n",
    "    \"W32B\": {\"Supplier A\": 27, \"Supplier B\": 28, \"Supplier C\": 30, \"Supplier D\": 29},\n",
    "    \"X33B\": {\"Supplier A\": 230, \"Supplier B\": 225, \"Supplier C\": 207, \"Supplier D\": 245},\n",
    "    \"Z32A\": {\"Supplier A\": 324, \"Supplier B\": 354, \"Supplier C\": 352, \"Supplier D\": 378}\n",
    "}\n",
    "\n",
    "capacity = {\n",
    "    \"Supplier A\": 12600,\n",
    "    \"Supplier B\": 26400,\n",
    "    \"Supplier C\": 24000,\n",
    "    \"Supplier D\": 54000\n",
    "}\n",
    "\n",
    "# LP formulation begins\n",
    "\n",
    "# Define the LP problem\n",
    "prob = pulp.LpProblem(\"ProcurementCostMinimization\", pulp.LpMinimize)\n",
    "\n",
    "# Decision variables:\n",
    "x = pulp.LpVariable.dicts(\"x\", (parts, suppliers), lowBound=0, cat=\"Continuous\")\n",
    "\n",
    "# Objective function:\n",
    "prob += pulp.lpSum([x[part][supplier] * prices[part][supplier] for part in parts for supplier in suppliers])\n",
    "\n",
    "# Constraints:\n",
    "\n",
    "# 1. Each part's demand should be satisfied.\n",
    "for part in parts:\n",
    "    prob += pulp.lpSum([x[part][supplier] for supplier in suppliers]) == demands[part]\n",
    "\n",
    "# 2. Suppliers' capacity should not be exceeded.\n",
    "for supplier in suppliers:\n",
    "    prob += pulp.lpSum([x[part][supplier] for part in parts]) <= capacity[supplier]\n",
    "\n",
    "# Solve the problem\n",
    "prob.solve()\n",
    "\n",
    "# Extract and display the results\n",
    "allocated_units = {supplier: sum(x[part][supplier].varValue for part in parts) for supplier in suppliers}\n",
    "total_cost = pulp.value(prob.objective)\n",
    "\n",
    "allocated_units, total_cost\n"
   ]
  },
  {
   "cell_type": "code",
   "execution_count": 13,
   "metadata": {},
   "outputs": [
    {
     "name": "stdout",
     "output_type": "stream",
     "text": [
      "Minimum total procurement cost for GetFit: 478727672000\n"
     ]
    }
   ],
   "source": [
    "from pulp import LpMinimize, LpProblem, LpVariable, lpSum\n",
    "\n",
    "# Data\n",
    "suppliers = [\"A\", \"B\", \"C\", \"D\"]\n",
    "parts = [\"W32A\", \"Y33A\", \"W32B\", \"X33B\", \"Z32A\"]\n",
    "\n",
    "# Number of units needed and unit prices\n",
    "demand = {\n",
    "    \"W32A\": 17000,\n",
    "    \"Y33A\": 33000,\n",
    "    \"W32B\": 30000,\n",
    "    \"X33B\": 30000,\n",
    "    \"Z32A\": 4000\n",
    "}\n",
    "\n",
    "unit_prices = {\n",
    "    (\"W32A\", \"A\"): 500,\n",
    "    (\"W32A\", \"B\"): 538,\n",
    "    (\"W32A\", \"C\"): 570,\n",
    "    (\"W32A\", \"D\"): 566,\n",
    "    (\"Y33A\", \"A\"): 109,\n",
    "    (\"Y33A\", \"B\"): 108,\n",
    "    (\"Y33A\", \"C\"): 116,\n",
    "    (\"Y33A\", \"D\"): 117,\n",
    "    (\"W32B\", \"A\"): 27,\n",
    "    (\"W32B\", \"B\"): 28,\n",
    "    (\"W32B\", \"C\"): 30,\n",
    "    (\"W32B\", \"D\"): 29,\n",
    "    (\"X33B\", \"A\"): 230,\n",
    "    (\"X33B\", \"B\"): 225,\n",
    "    (\"X33B\", \"C\"): 207,\n",
    "    (\"X33B\", \"D\"): 245,\n",
    "    (\"Z32A\", \"A\"): 324,\n",
    "    (\"Z32A\", \"B\"): 354,\n",
    "    (\"Z32A\", \"C\"): 352,\n",
    "    (\"Z32A\", \"D\"): 378\n",
    "}\n",
    "\n",
    "# Level of service\n",
    "service_levels = {\n",
    "    \"A\": 92,\n",
    "    \"B\": 97,\n",
    "    \"C\": 96,\n",
    "    \"D\": 95\n",
    "}\n",
    "\n",
    "# Cost per % level of service\n",
    "cost_per_service = {\n",
    "    \"W32A\": 10,\n",
    "    \"Y33A\": 2,\n",
    "    \"W32B\": 1,\n",
    "    \"X33B\": 3,\n",
    "    \"Z32A\": 8\n",
    "}\n",
    "\n",
    "# Create a linear programming problem\n",
    "prob = LpProblem(\"GetFit_Procurement\", LpMinimize)\n",
    "\n",
    "# Decision variables\n",
    "x = LpVariable.dicts(\"x\", [(part, supplier) for part in parts for supplier in suppliers], lowBound=0, cat=\"Integer\")\n",
    "y = LpVariable.dicts(\"y\", [(part, supplier) for part in parts for supplier in suppliers], lowBound=0, upBound=1, cat=\"Continuous\")\n",
    "\n",
    "# Objective function\n",
    "prob += lpSum([x[(part, supplier)] * (unit_prices[(part, supplier)] * demand[part] + \n",
    "                                        cost_per_service[part] * (service_levels[supplier] - service_levels[\"A\"])) \n",
    "                                        for part in parts for supplier in suppliers])\n",
    "\n",
    "# Constraints\n",
    "for part in parts:\n",
    "    prob += lpSum([x[(part, supplier)] for supplier in suppliers]) == demand[part]\n",
    "\n",
    "for supplier in suppliers:\n",
    "    prob += lpSum([x[(part, supplier)] for part in parts]) <= 24000  # Maximum total number of units per supplier\n",
    "\n",
    "# Solve the problem\n",
    "prob.solve()\n",
    "\n",
    "# Print the results\n",
    "print(\"Minimum total procurement cost for GetFit:\", round(prob.objective.value()))\n"
   ]
  },
  {
   "cell_type": "code",
   "execution_count": 14,
   "metadata": {},
   "outputs": [
    {
     "name": "stdout",
     "output_type": "stream",
     "text": [
      "Minimum Total Procurement Cost: $21070000.00\n"
     ]
    }
   ],
   "source": [
    "from pulp import LpProblem, LpVariable, lpSum, LpMinimize\n",
    "\n",
    "# Parts and their required quantities\n",
    "parts = ['W32A', 'Y33A', 'W32B', 'X33B', 'Z32A']\n",
    "required_quantities = {'W32A': 17000, 'Y33A': 33000, 'W32B': 30000, 'X33B': 30000, 'Z32A': 4000}\n",
    "\n",
    "# Supplier prices\n",
    "supplier_prices = {\n",
    "    'A': {'W32A': 500, 'Y33A': 109, 'W32B': 27, 'X33B': 230, 'Z32A': 324},\n",
    "    'B': {'W32A': 538, 'Y33A': 108, 'W32B': 28, 'X33B': 225, 'Z32A': 354},\n",
    "    'C': {'W32A': 570, 'Y33A': 116, 'W32B': 30, 'X33B': 207, 'Z32A': 352},\n",
    "    'D': {'W32A': 566, 'Y33A': 117, 'W32B': 29, 'X33B': 245, 'Z32A': 378}\n",
    "}\n",
    "\n",
    "# Supplier maximum supply limits\n",
    "supplier_limits = {'A': 12600, 'B': 26400, 'C': 24000, 'D': 54000}\n",
    "\n",
    "# Supplier E prices\n",
    "supplier_e_prices = {'W32A': 555, 'Y33A': 120, 'W32B': 35, 'X33B': 255, 'Z32A': 359}\n",
    "\n",
    "# Total units Supplier E can supply\n",
    "supplier_e_total_units = 22800\n",
    "\n",
    "# Create a linear programming problem\n",
    "problem = LpProblem(\"GetFit_Procurement\", LpMinimize)\n",
    "\n",
    "# Define decision variables\n",
    "supplier_vars = {s: {part: LpVariable(f\"{s}_{part}\", lowBound=0, cat='Integer') for part in parts} for s in supplier_prices}\n",
    "supplier_e_vars = {part: LpVariable(f\"SupplierE_{part}\", lowBound=0, cat='Integer') for part in parts}\n",
    "\n",
    "# Define the objective function (minimize procurement cost)\n",
    "cost = lpSum(supplier_prices[s][part] * supplier_vars[s][part] for s in supplier_prices for part in parts) \\\n",
    "       + lpSum(supplier_e_prices[part] * supplier_e_vars[part] for part in parts)\n",
    "problem += cost\n",
    "\n",
    "# Add constraints for required quantities\n",
    "for part in parts:\n",
    "    problem += lpSum(supplier_vars[s][part] for s in supplier_prices) + supplier_e_vars[part] == required_quantities[part]\n",
    "\n",
    "# Add constraints for supplier limits\n",
    "for s in supplier_prices:\n",
    "    problem += lpSum(supplier_vars[s][part] for part in parts) <= supplier_limits[s]\n",
    "\n",
    "# Add constraint for Supplier E total units\n",
    "problem += lpSum(supplier_e_vars[part] for part in parts) == supplier_e_total_units\n",
    "\n",
    "# Solve the problem\n",
    "problem.solve()\n",
    "\n",
    "# Get the minimum total procurement cost\n",
    "min_total_cost = problem.objective.value()\n",
    "print(f\"Minimum Total Procurement Cost: ${min_total_cost:.2f}\")\n"
   ]
  },
  {
   "cell_type": "code",
   "execution_count": 15,
   "metadata": {},
   "outputs": [
    {
     "name": "stdout",
     "output_type": "stream",
     "text": [
      "Minimum Total Procurement Cost: $21070000.00\n"
     ]
    }
   ],
   "source": [
    "from pulp import LpProblem, LpVariable, lpSum, LpMinimize\n",
    "\n",
    "# Parts and their required quantities\n",
    "parts = ['W32A', 'Y33A', 'W32B', 'X33B', 'Z32A']\n",
    "required_quantities = {'W32A': 17000, 'Y33A': 33000, 'W32B': 30000, 'X33B': 30000, 'Z32A': 4000}\n",
    "\n",
    "# Supplier prices\n",
    "supplier_prices = {\n",
    "    'A': {'W32A': 500, 'Y33A': 109, 'W32B': 27, 'X33B': 230, 'Z32A': 324},\n",
    "    'B': {'W32A': 538, 'Y33A': 108, 'W32B': 28, 'X33B': 225, 'Z32A': 354},\n",
    "    'C': {'W32A': 570, 'Y33A': 116, 'W32B': 30, 'X33B': 207, 'Z32A': 352},\n",
    "    'D': {'W32A': 566, 'Y33A': 117, 'W32B': 29, 'X33B': 245, 'Z32A': 378}\n",
    "}\n",
    "\n",
    "# Supplier maximum supply limits\n",
    "supplier_limits = {'A': 12600, 'B': 26400, 'C': 24000, 'D': 54000}\n",
    "\n",
    "# Supplier E prices\n",
    "supplier_e_prices = {'W32A': 555, 'Y33A': 120, 'W32B': 35, 'X33B': 255, 'Z32A': 359}\n",
    "\n",
    "# Total units Supplier E can supply\n",
    "supplier_e_total_units = 22800\n",
    "\n",
    "# Create a linear programming problem\n",
    "problem = LpProblem(\"GetFit_Procurement\", LpMinimize)\n",
    "\n",
    "# Define decision variables for regular suppliers\n",
    "supplier_vars = {s: {part: LpVariable(f\"{s}_{part}\", lowBound=0, cat='Integer') for part in parts} for s in supplier_prices}\n",
    "\n",
    "# Define decision variables for Supplier E\n",
    "supplier_e_vars = {part: LpVariable(f\"SupplierE_{part}\", lowBound=0, cat='Integer') for part in parts}\n",
    "\n",
    "# Define the objective function (minimize procurement cost)\n",
    "cost = lpSum(supplier_prices[s][part] * supplier_vars[s][part] for s in supplier_prices for part in parts) \\\n",
    "       + lpSum(supplier_e_prices[part] * supplier_e_vars[part] for part in parts)\n",
    "problem += cost\n",
    "\n",
    "# Add constraints for required quantities\n",
    "for part in parts:\n",
    "    problem += lpSum(supplier_vars[s][part] for s in supplier_prices) + supplier_e_vars[part] == required_quantities[part]\n",
    "\n",
    "# Add constraints for supplier limits\n",
    "for s in supplier_prices:\n",
    "    problem += lpSum(supplier_vars[s][part] for part in parts) <= supplier_limits[s]\n",
    "\n",
    "# Add constraint for Supplier E total units\n",
    "problem += lpSum(supplier_e_vars[part] for part in parts) == supplier_e_total_units\n",
    "\n",
    "# Solve the problem\n",
    "problem.solve()\n",
    "\n",
    "# Get the minimum total procurement cost\n",
    "min_total_cost = problem.objective.value()\n",
    "print(f\"Minimum Total Procurement Cost: ${min_total_cost:.2f}\")\n"
   ]
  },
  {
   "cell_type": "code",
   "execution_count": 16,
   "metadata": {},
   "outputs": [
    {
     "name": "stdout",
     "output_type": "stream",
     "text": [
      "Revenue for Supplier E: $3539000.00\n"
     ]
    }
   ],
   "source": [
    "# Supplier E prices\n",
    "supplier_e_prices = {'W32A': 555, 'Y33A': 120, 'W32B': 35, 'X33B': 255, 'Z32A': 359}\n",
    "\n",
    "# Supplier E variables (quantities)\n",
    "supplier_e_vars = {part: value.varValue for part, value in supplier_e_vars.items()}\n",
    "\n",
    "# Calculate the revenue for Supplier E\n",
    "supplier_e_revenue = sum(supplier_e_vars[part] * supplier_e_prices[part] for part in parts)\n",
    "print(f\"Revenue for Supplier E: ${supplier_e_revenue:.2f}\")\n"
   ]
  },
  {
   "cell_type": "code",
   "execution_count": null,
   "metadata": {},
   "outputs": [],
   "source": []
  }
 ],
 "metadata": {
  "kernelspec": {
   "display_name": "work_env",
   "language": "python",
   "name": "python3"
  },
  "language_info": {
   "codemirror_mode": {
    "name": "ipython",
    "version": 3
   },
   "file_extension": ".py",
   "mimetype": "text/x-python",
   "name": "python",
   "nbconvert_exporter": "python",
   "pygments_lexer": "ipython3",
   "version": "3.11.3"
  },
  "orig_nbformat": 4,
  "vscode": {
   "interpreter": {
    "hash": "0412dab4e0f609bf2859fb2847239a0f670c57fa2b704fd2f84ead103e85971c"
   }
  }
 },
 "nbformat": 4,
 "nbformat_minor": 2
}
